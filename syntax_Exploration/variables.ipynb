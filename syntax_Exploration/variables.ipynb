{
 "cells": [
  {
   "cell_type": "code",
   "execution_count": 2,
   "id": "531064ea",
   "metadata": {},
   "outputs": [
    {
     "name": "stdout",
     "output_type": "stream",
     "text": [
      "age: 32\n",
      "heigth: 6.2\n",
      "name: suhas\n"
     ]
    }
   ],
   "source": [
    "## Declaring And Assigning Variables\n",
    "\n",
    "age=32\n",
    "height=6.2\n",
    "name = \"suhas\"\n",
    "\n",
    "print(\"age:\",age)\n",
    "print(\"heigth:\",height)\n",
    "print(\"name:\",name)"
   ]
  },
  {
   "cell_type": "code",
   "execution_count": 3,
   "id": "1b0c8c12",
   "metadata": {},
   "outputs": [],
   "source": [
    "##Naming Conventions\n",
    "##variable names should be descriptive \n",
    "##they must start with a letter or an '_' and contaion letter,numbers and underscores\n",
    "## variables name case sensitive\n",
    "\n",
    "##valid variable name\n",
    "first_name= \"suhas\"\n",
    "last_name=\"s\""
   ]
  },
  {
   "cell_type": "code",
   "execution_count": 4,
   "id": "77c7a11d",
   "metadata": {},
   "outputs": [],
   "source": [
    "##case Sensitivity\n",
    "name= \"suhas\",\n",
    "Name = \"s\""
   ]
  },
  {
   "cell_type": "code",
   "execution_count": 5,
   "id": "3dede8ca",
   "metadata": {},
   "outputs": [],
   "source": [
    "##understanding variable names\n",
    "## Python is dynamically typed type of a variable is determined at runtime\n",
    "age= 23\n",
    "height= 6.2\n",
    "name=\"suhas\"\n",
    "is_student=True"
   ]
  },
  {
   "cell_type": "code",
   "execution_count": 9,
   "id": "4eda1259",
   "metadata": {},
   "outputs": [
    {
     "name": "stdout",
     "output_type": "stream",
     "text": [
      "23\n",
      "<class 'str'>\n"
     ]
    }
   ],
   "source": [
    "##Type checking and conversion\n",
    "\n",
    "type(age)\n",
    "age_str= str(age)\n",
    "print(age_str)\n",
    "print(type(age_str))\n",
    "\n"
   ]
  },
  {
   "cell_type": "code",
   "execution_count": 12,
   "id": "f2eea90b",
   "metadata": {},
   "outputs": [
    {
     "data": {
      "text/plain": [
       "6"
      ]
     },
     "execution_count": 12,
     "metadata": {},
     "output_type": "execute_result"
    }
   ],
   "source": [
    "height=6.2\n",
    "type(height)\n",
    "int(height)"
   ]
  },
  {
   "cell_type": "code",
   "execution_count": 14,
   "id": "bd8073dc",
   "metadata": {},
   "outputs": [
    {
     "name": "stdout",
     "output_type": "stream",
     "text": [
      "10 <class 'int'>\n",
      "ArithmeticError <class 'str'>\n",
      "3.14 <class 'float'>\n"
     ]
    }
   ],
   "source": [
    "##Dynamic typing \n",
    "##python allows the type of a variable to change as the program executes\n",
    "var =10\n",
    "print(var,type(var))\n",
    "\n",
    "var = \"ArithmeticError\"\n",
    "\n",
    "print(var,type(var))\n",
    "\n",
    "var=  3.14\n",
    "print(var,type(var))"
   ]
  },
  {
   "cell_type": "code",
   "execution_count": 17,
   "id": "219c0203",
   "metadata": {},
   "outputs": [
    {
     "name": "stdout",
     "output_type": "stream",
     "text": [
      "0\n"
     ]
    }
   ],
   "source": [
    "##input\n",
    "\n",
    "age = int(input(\"what is the age\"))\n",
    "print(age)"
   ]
  },
  {
   "cell_type": "code",
   "execution_count": null,
   "id": "3a8f9349",
   "metadata": {},
   "outputs": [],
   "source": []
  }
 ],
 "metadata": {
  "kernelspec": {
   "display_name": "venv",
   "language": "python",
   "name": "python3"
  },
  "language_info": {
   "codemirror_mode": {
    "name": "ipython",
    "version": 3
   },
   "file_extension": ".py",
   "mimetype": "text/x-python",
   "name": "python",
   "nbconvert_exporter": "python",
   "pygments_lexer": "ipython3",
   "version": "3.12.0"
  }
 },
 "nbformat": 4,
 "nbformat_minor": 5
}
